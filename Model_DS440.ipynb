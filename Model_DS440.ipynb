{
  "nbformat": 4,
  "nbformat_minor": 0,
  "metadata": {
    "colab": {
      "provenance": []
    },
    "kernelspec": {
      "name": "python3",
      "display_name": "Python 3"
    },
    "language_info": {
      "name": "python"
    }
  },
  "cells": [
    {
      "cell_type": "code",
      "execution_count": 27,
      "metadata": {
        "id": "Zvlp1y1Tqj1G"
      },
      "outputs": [],
      "source": [
        "import pandas as pd\n",
        "from sklearn import datasets, linear_model, metrics\n",
        "import matplotlib.pyplot as plt\n",
        "from sklearn.preprocessing import OneHotEncoder\n",
        "from sklearn.linear_model import LinearRegression\n",
        "from sklearn.model_selection import train_test_split\n",
        "from sklearn.metrics import mean_squared_error"
      ]
    },
    {
      "cell_type": "code",
      "source": [
        "df = pd.read_csv(\"/content/drive/MyDrive/StormEvents_Combined.csv\")"
      ],
      "metadata": {
        "id": "rQ-wMwQeqnw1"
      },
      "execution_count": 16,
      "outputs": []
    },
    {
      "cell_type": "code",
      "source": [
        "df.shape"
      ],
      "metadata": {
        "colab": {
          "base_uri": "https://localhost:8080/"
        },
        "id": "AeOAQ7i8rFmD",
        "outputId": "2cf193f6-c231-4da0-a8c3-796cebc3c4f5"
      },
      "execution_count": 17,
      "outputs": [
        {
          "output_type": "execute_result",
          "data": {
            "text/plain": [
              "(608747, 9)"
            ]
          },
          "metadata": {},
          "execution_count": 17
        }
      ]
    },
    {
      "cell_type": "code",
      "source": [
        "pd.Series(df['EVENT_TYPE'].unique()).sort_values()"
      ],
      "metadata": {
        "colab": {
          "base_uri": "https://localhost:8080/"
        },
        "id": "VsvUwbjArHvt",
        "outputId": "2865fb84-7d88-4e41-9c48-60af063cebae"
      },
      "execution_count": 18,
      "outputs": [
        {
          "output_type": "execute_result",
          "data": {
            "text/plain": [
              "40    Astronomical Low Tide\n",
              "34                Avalanche\n",
              "4                  Blizzard\n",
              "31            Coastal Flood\n",
              "17          Cold/Wind Chill\n",
              "              ...          \n",
              "47         Volcanic Ashfall\n",
              "24               Waterspout\n",
              "26                 Wildfire\n",
              "10             Winter Storm\n",
              "0            Winter Weather\n",
              "Length: 69, dtype: object"
            ]
          },
          "metadata": {},
          "execution_count": 18
        }
      ]
    },
    {
      "cell_type": "code",
      "source": [
        "df = df.drop(['MONTH_NAME', \"COUNTY_NAME\", \"COUNTY_TIMEZONE\", \"STATE\"], axis = 1)\n",
        "one_hot_encoded_data = pd.get_dummies(df, columns = ['EVENT_TYPE'])\n",
        "print(one_hot_encoded_data)"
      ],
      "metadata": {
        "colab": {
          "base_uri": "https://localhost:8080/"
        },
        "id": "hzOfNVASvAiL",
        "outputId": "567c34c4-8665-492a-e5d3-2e291ca9aa39"
      },
      "execution_count": 19,
      "outputs": [
        {
          "output_type": "stream",
          "name": "stdout",
          "text": [
            "        Unnamed: 0  YEAR  DAMAGE_PROPERTY  DAMAGE_CROPS  \\\n",
            "0                0  2013              0.0           0.0   \n",
            "1                1  2013              0.0           0.0   \n",
            "2                2  2013              0.0           0.0   \n",
            "3                3  2013           3000.0           0.0   \n",
            "4                4  2013              0.0           0.0   \n",
            "...            ...   ...              ...           ...   \n",
            "608742       56395  2006          65000.0       80000.0   \n",
            "608743       56396  2006          50000.0       75000.0   \n",
            "608744       56397  2006           5000.0       10000.0   \n",
            "608745       56398  2006          80000.0      100000.0   \n",
            "608746       56399  2006          10000.0       20000.0   \n",
            "\n",
            "        EVENT_TYPE_Astronomical Low Tide  EVENT_TYPE_Avalanche  \\\n",
            "0                                      0                     0   \n",
            "1                                      0                     0   \n",
            "2                                      0                     0   \n",
            "3                                      0                     0   \n",
            "4                                      0                     0   \n",
            "...                                  ...                   ...   \n",
            "608742                                 0                     0   \n",
            "608743                                 0                     0   \n",
            "608744                                 0                     0   \n",
            "608745                                 0                     0   \n",
            "608746                                 0                     0   \n",
            "\n",
            "        EVENT_TYPE_Blizzard  EVENT_TYPE_Coastal Flood  \\\n",
            "0                         0                         0   \n",
            "1                         0                         0   \n",
            "2                         0                         0   \n",
            "3                         0                         0   \n",
            "4                         0                         0   \n",
            "...                     ...                       ...   \n",
            "608742                    0                         0   \n",
            "608743                    0                         0   \n",
            "608744                    0                         0   \n",
            "608745                    0                         0   \n",
            "608746                    0                         0   \n",
            "\n",
            "        EVENT_TYPE_Cold/Wind Chill  EVENT_TYPE_Debris Flow  ...  \\\n",
            "0                                0                       0  ...   \n",
            "1                                0                       0  ...   \n",
            "2                                0                       0  ...   \n",
            "3                                0                       0  ...   \n",
            "4                                0                       0  ...   \n",
            "...                            ...                     ...  ...   \n",
            "608742                           0                       0  ...   \n",
            "608743                           0                       0  ...   \n",
            "608744                           0                       0  ...   \n",
            "608745                           0                       0  ...   \n",
            "608746                           0                       0  ...   \n",
            "\n",
            "        EVENT_TYPE_Thunderstorm Wind  EVENT_TYPE_Tornado  \\\n",
            "0                                  0                   0   \n",
            "1                                  0                   0   \n",
            "2                                  0                   0   \n",
            "3                                  0                   0   \n",
            "4                                  0                   0   \n",
            "...                              ...                 ...   \n",
            "608742                             0                   0   \n",
            "608743                             0                   0   \n",
            "608744                             0                   0   \n",
            "608745                             0                   0   \n",
            "608746                             0                   0   \n",
            "\n",
            "        EVENT_TYPE_Tropical Depression  EVENT_TYPE_Tropical Storm  \\\n",
            "0                                    0                          0   \n",
            "1                                    0                          0   \n",
            "2                                    0                          0   \n",
            "3                                    0                          0   \n",
            "4                                    0                          0   \n",
            "...                                ...                        ...   \n",
            "608742                               0                          0   \n",
            "608743                               0                          0   \n",
            "608744                               0                          0   \n",
            "608745                               0                          0   \n",
            "608746                               0                          0   \n",
            "\n",
            "        EVENT_TYPE_Tsunami  EVENT_TYPE_Volcanic Ashfall  \\\n",
            "0                        0                            0   \n",
            "1                        0                            0   \n",
            "2                        0                            0   \n",
            "3                        0                            0   \n",
            "4                        0                            0   \n",
            "...                    ...                          ...   \n",
            "608742                   0                            0   \n",
            "608743                   0                            0   \n",
            "608744                   0                            0   \n",
            "608745                   0                            0   \n",
            "608746                   0                            0   \n",
            "\n",
            "        EVENT_TYPE_Waterspout  EVENT_TYPE_Wildfire  EVENT_TYPE_Winter Storm  \\\n",
            "0                           0                    0                        0   \n",
            "1                           0                    0                        0   \n",
            "2                           0                    0                        0   \n",
            "3                           0                    0                        0   \n",
            "4                           0                    0                        0   \n",
            "...                       ...                  ...                      ...   \n",
            "608742                      0                    0                        0   \n",
            "608743                      0                    0                        0   \n",
            "608744                      0                    0                        0   \n",
            "608745                      0                    0                        0   \n",
            "608746                      0                    0                        0   \n",
            "\n",
            "        EVENT_TYPE_Winter Weather  \n",
            "0                               1  \n",
            "1                               0  \n",
            "2                               0  \n",
            "3                               0  \n",
            "4                               0  \n",
            "...                           ...  \n",
            "608742                          0  \n",
            "608743                          0  \n",
            "608744                          0  \n",
            "608745                          0  \n",
            "608746                          0  \n",
            "\n",
            "[608747 rows x 73 columns]\n"
          ]
        }
      ]
    },
    {
      "cell_type": "code",
      "source": [
        "X = one_hot_encoded_data.drop(\"DAMAGE_PROPERTY\", axis = 1)\n",
        "y = one_hot_encoded_data['DAMAGE_PROPERTY']"
      ],
      "metadata": {
        "id": "ZhvhkSwfxOSp"
      },
      "execution_count": 20,
      "outputs": []
    },
    {
      "cell_type": "code",
      "source": [
        "X_train, X_test, y_train, y_test = train_test_split(X, y, test_size=.3)"
      ],
      "metadata": {
        "id": "xxYyUqSUyDEj"
      },
      "execution_count": 21,
      "outputs": []
    },
    {
      "cell_type": "code",
      "source": [
        "lm = LinearRegression()"
      ],
      "metadata": {
        "id": "HmwjEWc6yhMD"
      },
      "execution_count": 22,
      "outputs": []
    },
    {
      "cell_type": "code",
      "source": [
        "lm.fit(X_train, y_train)"
      ],
      "metadata": {
        "colab": {
          "base_uri": "https://localhost:8080/"
        },
        "id": "24ISsovxyvW0",
        "outputId": "f4c3f2e1-f1a1-4f1c-ec7b-78c29c16cc11"
      },
      "execution_count": 23,
      "outputs": [
        {
          "output_type": "execute_result",
          "data": {
            "text/plain": [
              "LinearRegression()"
            ]
          },
          "metadata": {},
          "execution_count": 23
        }
      ]
    },
    {
      "cell_type": "code",
      "source": [
        "predicted_data = lm.predict(X)"
      ],
      "metadata": {
        "id": "GeB94pQzyy6X"
      },
      "execution_count": 26,
      "outputs": []
    },
    {
      "cell_type": "code",
      "source": [
        "mean_squared_error(y, predicted_data)"
      ],
      "metadata": {
        "colab": {
          "base_uri": "https://localhost:8080/"
        },
        "id": "WjxGjU6R0kfK",
        "outputId": "dec45a1b-139f-4c16-cb9d-722d2fcf6e11"
      },
      "execution_count": 29,
      "outputs": [
        {
          "output_type": "execute_result",
          "data": {
            "text/plain": [
              "1506200337369780.5"
            ]
          },
          "metadata": {},
          "execution_count": 29
        }
      ]
    }
  ]
}