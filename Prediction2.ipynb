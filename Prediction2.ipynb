{
 "cells": [
  {
   "cell_type": "code",
   "execution_count": 17,
   "id": "52c50625-161b-4f72-9fa8-8a313dfd7baa",
   "metadata": {},
   "outputs": [],
   "source": [
    "import pandas as pd\n",
    "import numpy as np\n",
    "from sklearn import datasets, linear_model, metrics\n",
    "import matplotlib.pyplot as plt\n",
    "from sklearn.preprocessing import OneHotEncoder\n",
    "from sklearn.linear_model import LinearRegression\n",
    "from sklearn.model_selection import train_test_split\n",
    "from sklearn.metrics import mean_squared_error\n",
    "from sklearn import preprocessing\n",
    "from sklearn.linear_model import LinearRegression\n",
    "from matplotlib import pyplot\n",
    "from sklearn.ensemble import RandomForestRegressor\n",
    "from sklearn.linear_model import Ridge\n",
    "from sklearn.linear_model import Lasso"
   ]
  },
  {
   "cell_type": "code",
   "execution_count": 18,
   "id": "074e439e-10b0-41ae-9552-93fb4cebd933",
   "metadata": {},
   "outputs": [
    {
     "data": {
      "text/html": [
       "<div>\n",
       "<style scoped>\n",
       "    .dataframe tbody tr th:only-of-type {\n",
       "        vertical-align: middle;\n",
       "    }\n",
       "\n",
       "    .dataframe tbody tr th {\n",
       "        vertical-align: top;\n",
       "    }\n",
       "\n",
       "    .dataframe thead th {\n",
       "        text-align: right;\n",
       "    }\n",
       "</style>\n",
       "<table border=\"1\" class=\"dataframe\">\n",
       "  <thead>\n",
       "    <tr style=\"text-align: right;\">\n",
       "      <th></th>\n",
       "      <th>Unnamed: 0</th>\n",
       "      <th>YEAR</th>\n",
       "      <th>MONTH_NAME</th>\n",
       "      <th>EVENT_TYPE</th>\n",
       "      <th>DAMAGE_PROPERTY</th>\n",
       "      <th>COUNTY/STATE</th>\n",
       "    </tr>\n",
       "  </thead>\n",
       "  <tbody>\n",
       "    <tr>\n",
       "      <th>0</th>\n",
       "      <td>0</td>\n",
       "      <td>2013</td>\n",
       "      <td>3</td>\n",
       "      <td>68</td>\n",
       "      <td>0.0</td>\n",
       "      <td>1614</td>\n",
       "    </tr>\n",
       "    <tr>\n",
       "      <th>1</th>\n",
       "      <td>1</td>\n",
       "      <td>2013</td>\n",
       "      <td>2</td>\n",
       "      <td>23</td>\n",
       "      <td>0.0</td>\n",
       "      <td>1614</td>\n",
       "    </tr>\n",
       "    <tr>\n",
       "      <th>2</th>\n",
       "      <td>2</td>\n",
       "      <td>2013</td>\n",
       "      <td>7</td>\n",
       "      <td>23</td>\n",
       "      <td>0.0</td>\n",
       "      <td>1614</td>\n",
       "    </tr>\n",
       "    <tr>\n",
       "      <th>3</th>\n",
       "      <td>3</td>\n",
       "      <td>2013</td>\n",
       "      <td>10</td>\n",
       "      <td>47</td>\n",
       "      <td>3000.0</td>\n",
       "      <td>1614</td>\n",
       "    </tr>\n",
       "    <tr>\n",
       "      <th>4</th>\n",
       "      <td>4</td>\n",
       "      <td>2013</td>\n",
       "      <td>3</td>\n",
       "      <td>23</td>\n",
       "      <td>0.0</td>\n",
       "      <td>1614</td>\n",
       "    </tr>\n",
       "    <tr>\n",
       "      <th>...</th>\n",
       "      <td>...</td>\n",
       "      <td>...</td>\n",
       "      <td>...</td>\n",
       "      <td>...</td>\n",
       "      <td>...</td>\n",
       "      <td>...</td>\n",
       "    </tr>\n",
       "    <tr>\n",
       "      <th>608742</th>\n",
       "      <td>608742</td>\n",
       "      <td>2006</td>\n",
       "      <td>10</td>\n",
       "      <td>20</td>\n",
       "      <td>65000.0</td>\n",
       "      <td>3485</td>\n",
       "    </tr>\n",
       "    <tr>\n",
       "      <th>608743</th>\n",
       "      <td>608743</td>\n",
       "      <td>2006</td>\n",
       "      <td>10</td>\n",
       "      <td>20</td>\n",
       "      <td>50000.0</td>\n",
       "      <td>2384</td>\n",
       "    </tr>\n",
       "    <tr>\n",
       "      <th>608744</th>\n",
       "      <td>608744</td>\n",
       "      <td>2006</td>\n",
       "      <td>10</td>\n",
       "      <td>20</td>\n",
       "      <td>5000.0</td>\n",
       "      <td>6115</td>\n",
       "    </tr>\n",
       "    <tr>\n",
       "      <th>608745</th>\n",
       "      <td>608745</td>\n",
       "      <td>2006</td>\n",
       "      <td>10</td>\n",
       "      <td>20</td>\n",
       "      <td>80000.0</td>\n",
       "      <td>3485</td>\n",
       "    </tr>\n",
       "    <tr>\n",
       "      <th>608746</th>\n",
       "      <td>608746</td>\n",
       "      <td>2006</td>\n",
       "      <td>10</td>\n",
       "      <td>20</td>\n",
       "      <td>10000.0</td>\n",
       "      <td>29</td>\n",
       "    </tr>\n",
       "  </tbody>\n",
       "</table>\n",
       "<p>608747 rows × 6 columns</p>\n",
       "</div>"
      ],
      "text/plain": [
       "        Unnamed: 0  YEAR  MONTH_NAME  EVENT_TYPE  DAMAGE_PROPERTY  \\\n",
       "0                0  2013           3          68              0.0   \n",
       "1                1  2013           2          23              0.0   \n",
       "2                2  2013           7          23              0.0   \n",
       "3                3  2013          10          47           3000.0   \n",
       "4                4  2013           3          23              0.0   \n",
       "...            ...   ...         ...         ...              ...   \n",
       "608742      608742  2006          10          20          65000.0   \n",
       "608743      608743  2006          10          20          50000.0   \n",
       "608744      608744  2006          10          20           5000.0   \n",
       "608745      608745  2006          10          20          80000.0   \n",
       "608746      608746  2006          10          20          10000.0   \n",
       "\n",
       "        COUNTY/STATE  \n",
       "0               1614  \n",
       "1               1614  \n",
       "2               1614  \n",
       "3               1614  \n",
       "4               1614  \n",
       "...              ...  \n",
       "608742          3485  \n",
       "608743          2384  \n",
       "608744          6115  \n",
       "608745          3485  \n",
       "608746            29  \n",
       "\n",
       "[608747 rows x 6 columns]"
      ]
     },
     "execution_count": 18,
     "metadata": {},
     "output_type": "execute_result"
    }
   ],
   "source": [
    "df = pd.read_csv('prediction_df.csv')\n",
    "\n",
    "df"
   ]
  },
  {
   "cell_type": "code",
   "execution_count": 19,
   "id": "3a013494-9814-4a37-912e-303a3d2e799e",
   "metadata": {},
   "outputs": [],
   "source": [
    "X = df.drop('DAMAGE_PROPERTY',axis=1)\n",
    "y = df['DAMAGE_PROPERTY']"
   ]
  },
  {
   "cell_type": "code",
   "execution_count": 20,
   "id": "b9ca8929-0dd5-4e3e-b176-e575e76c8cb7",
   "metadata": {},
   "outputs": [],
   "source": [
    "X_train,X_test,y_train,y_test = train_test_split(X,y,test_size = 0.20)"
   ]
  },
  {
   "cell_type": "code",
   "execution_count": 21,
   "id": "b282620b-555c-4cbb-be18-c2d982c00715",
   "metadata": {},
   "outputs": [
    {
     "name": "stdout",
     "output_type": "stream",
     "text": [
      "$29,521,622.46\n"
     ]
    }
   ],
   "source": [
    "model_randomforestregressor = RandomForestRegressor(random_state=0)\n",
    "model_randomforestregressor.fit(X_train, y_train)\n",
    "predict_randomforestregressor = model_randomforestregressor.predict(X_test)\n",
    "error = np.sqrt(mean_squared_error(y_test,predict_randomforestregressor))\n",
    "print(\"${:,.02f}\".format(error))"
   ]
  },
  {
   "cell_type": "code",
   "execution_count": 22,
   "id": "7ddce4eb-539e-40d3-8a5b-2f24e01e4944",
   "metadata": {},
   "outputs": [
    {
     "name": "stdout",
     "output_type": "stream",
     "text": [
      "$24,932,692.52\n"
     ]
    }
   ],
   "source": [
    "rr = Ridge()\n",
    "rr.fit(X_train, y_train) \n",
    "predict_modelrr= rr.predict(X_test)\n",
    "error = np.sqrt(mean_squared_error(y_test,predict_modelrr))\n",
    "print(\"${:,.02f}\".format(error))"
   ]
  },
  {
   "cell_type": "code",
   "execution_count": 23,
   "id": "93082d53-7121-48d0-b751-efdd77c59cf3",
   "metadata": {},
   "outputs": [
    {
     "name": "stdout",
     "output_type": "stream",
     "text": [
      "$24,932,692.52\n"
     ]
    }
   ],
   "source": [
    "model_lasso = Lasso()\n",
    "model_lasso.fit(X_train, y_train)\n",
    "predict_lasso = model_lasso.predict(X_test)\n",
    "error = np.sqrt(mean_squared_error(y_test,predict_lasso))\n",
    "print(\"${:,.02f}\".format(error))"
   ]
  },
  {
   "cell_type": "code",
   "execution_count": null,
   "id": "40151e8d-99bf-48dc-a890-d50eec7d487d",
   "metadata": {},
   "outputs": [],
   "source": []
  }
 ],
 "metadata": {
  "kernelspec": {
   "display_name": "Python 3",
   "language": "python",
   "name": "python3"
  },
  "language_info": {
   "codemirror_mode": {
    "name": "ipython",
    "version": 3
   },
   "file_extension": ".py",
   "mimetype": "text/x-python",
   "name": "python",
   "nbconvert_exporter": "python",
   "pygments_lexer": "ipython3",
   "version": "3.8.8"
  }
 },
 "nbformat": 4,
 "nbformat_minor": 5
}
