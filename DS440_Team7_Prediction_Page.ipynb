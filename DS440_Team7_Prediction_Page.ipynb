{
 "cells": [
  {
   "cell_type": "code",
   "execution_count": 1,
   "id": "86415b07",
   "metadata": {},
   "outputs": [],
   "source": [
    "import pandas as pd\n",
    "import numpy as np\n",
    "from sklearn import datasets, linear_model, metrics\n",
    "import matplotlib.pyplot as plt\n",
    "from sklearn.preprocessing import OneHotEncoder\n",
    "from sklearn.linear_model import LinearRegression\n",
    "from sklearn.model_selection import train_test_split\n",
    "from sklearn.metrics import mean_squared_error\n",
    "from sklearn import preprocessing\n"
   ]
  },
  {
   "cell_type": "code",
   "execution_count": 2,
   "id": "fdb4c5bd",
   "metadata": {},
   "outputs": [
    {
     "data": {
      "text/html": [
       "<div>\n",
       "<style scoped>\n",
       "    .dataframe tbody tr th:only-of-type {\n",
       "        vertical-align: middle;\n",
       "    }\n",
       "\n",
       "    .dataframe tbody tr th {\n",
       "        vertical-align: top;\n",
       "    }\n",
       "\n",
       "    .dataframe thead th {\n",
       "        text-align: right;\n",
       "    }\n",
       "</style>\n",
       "<table border=\"1\" class=\"dataframe\">\n",
       "  <thead>\n",
       "    <tr style=\"text-align: right;\">\n",
       "      <th></th>\n",
       "      <th>Unnamed: 0</th>\n",
       "      <th>STATE</th>\n",
       "      <th>YEAR</th>\n",
       "      <th>MONTH_NAME</th>\n",
       "      <th>EVENT_TYPE</th>\n",
       "      <th>COUNTY_NAME</th>\n",
       "      <th>COUNTY_TIMEZONE</th>\n",
       "      <th>DAMAGE_PROPERTY</th>\n",
       "      <th>DAMAGE_CROPS</th>\n",
       "    </tr>\n",
       "  </thead>\n",
       "  <tbody>\n",
       "    <tr>\n",
       "      <th>0</th>\n",
       "      <td>0</td>\n",
       "      <td>NEW HAMPSHIRE</td>\n",
       "      <td>2013</td>\n",
       "      <td>February</td>\n",
       "      <td>Winter Weather</td>\n",
       "      <td>EASTERN HILLSBOROUGH</td>\n",
       "      <td>EST-5</td>\n",
       "      <td>0.0</td>\n",
       "      <td>0.0</td>\n",
       "    </tr>\n",
       "    <tr>\n",
       "      <th>1</th>\n",
       "      <td>1</td>\n",
       "      <td>NEW HAMPSHIRE</td>\n",
       "      <td>2013</td>\n",
       "      <td>December</td>\n",
       "      <td>Heavy Snow</td>\n",
       "      <td>EASTERN HILLSBOROUGH</td>\n",
       "      <td>EST-5</td>\n",
       "      <td>0.0</td>\n",
       "      <td>0.0</td>\n",
       "    </tr>\n",
       "    <tr>\n",
       "      <th>2</th>\n",
       "      <td>2</td>\n",
       "      <td>NEW HAMPSHIRE</td>\n",
       "      <td>2013</td>\n",
       "      <td>March</td>\n",
       "      <td>Heavy Snow</td>\n",
       "      <td>EASTERN HILLSBOROUGH</td>\n",
       "      <td>EST-5</td>\n",
       "      <td>0.0</td>\n",
       "      <td>0.0</td>\n",
       "    </tr>\n",
       "    <tr>\n",
       "      <th>3</th>\n",
       "      <td>3</td>\n",
       "      <td>NEW HAMPSHIRE</td>\n",
       "      <td>2013</td>\n",
       "      <td>October</td>\n",
       "      <td>Strong Wind</td>\n",
       "      <td>EASTERN HILLSBOROUGH</td>\n",
       "      <td>EST-5</td>\n",
       "      <td>3000.0</td>\n",
       "      <td>0.0</td>\n",
       "    </tr>\n",
       "    <tr>\n",
       "      <th>4</th>\n",
       "      <td>4</td>\n",
       "      <td>NEW HAMPSHIRE</td>\n",
       "      <td>2013</td>\n",
       "      <td>February</td>\n",
       "      <td>Heavy Snow</td>\n",
       "      <td>EASTERN HILLSBOROUGH</td>\n",
       "      <td>EST-5</td>\n",
       "      <td>0.0</td>\n",
       "      <td>0.0</td>\n",
       "    </tr>\n",
       "    <tr>\n",
       "      <th>...</th>\n",
       "      <td>...</td>\n",
       "      <td>...</td>\n",
       "      <td>...</td>\n",
       "      <td>...</td>\n",
       "      <td>...</td>\n",
       "      <td>...</td>\n",
       "      <td>...</td>\n",
       "      <td>...</td>\n",
       "      <td>...</td>\n",
       "    </tr>\n",
       "    <tr>\n",
       "      <th>608742</th>\n",
       "      <td>56395</td>\n",
       "      <td>IOWA</td>\n",
       "      <td>2006</td>\n",
       "      <td>October</td>\n",
       "      <td>Hail</td>\n",
       "      <td>MITCHELL</td>\n",
       "      <td>CST-6</td>\n",
       "      <td>65000.0</td>\n",
       "      <td>80000.0</td>\n",
       "    </tr>\n",
       "    <tr>\n",
       "      <th>608743</th>\n",
       "      <td>56396</td>\n",
       "      <td>IOWA</td>\n",
       "      <td>2006</td>\n",
       "      <td>October</td>\n",
       "      <td>Hail</td>\n",
       "      <td>HOWARD</td>\n",
       "      <td>CST-6</td>\n",
       "      <td>50000.0</td>\n",
       "      <td>75000.0</td>\n",
       "    </tr>\n",
       "    <tr>\n",
       "      <th>608744</th>\n",
       "      <td>56397</td>\n",
       "      <td>IOWA</td>\n",
       "      <td>2006</td>\n",
       "      <td>October</td>\n",
       "      <td>Hail</td>\n",
       "      <td>WINNESHIEK</td>\n",
       "      <td>CST-6</td>\n",
       "      <td>5000.0</td>\n",
       "      <td>10000.0</td>\n",
       "    </tr>\n",
       "    <tr>\n",
       "      <th>608745</th>\n",
       "      <td>56398</td>\n",
       "      <td>IOWA</td>\n",
       "      <td>2006</td>\n",
       "      <td>October</td>\n",
       "      <td>Hail</td>\n",
       "      <td>MITCHELL</td>\n",
       "      <td>CST-6</td>\n",
       "      <td>80000.0</td>\n",
       "      <td>100000.0</td>\n",
       "    </tr>\n",
       "    <tr>\n",
       "      <th>608746</th>\n",
       "      <td>56399</td>\n",
       "      <td>WISCONSIN</td>\n",
       "      <td>2006</td>\n",
       "      <td>October</td>\n",
       "      <td>Hail</td>\n",
       "      <td>ADAMS</td>\n",
       "      <td>CST-6</td>\n",
       "      <td>10000.0</td>\n",
       "      <td>20000.0</td>\n",
       "    </tr>\n",
       "  </tbody>\n",
       "</table>\n",
       "<p>608747 rows × 9 columns</p>\n",
       "</div>"
      ],
      "text/plain": [
       "        Unnamed: 0          STATE  YEAR MONTH_NAME      EVENT_TYPE  \\\n",
       "0                0  NEW HAMPSHIRE  2013   February  Winter Weather   \n",
       "1                1  NEW HAMPSHIRE  2013   December      Heavy Snow   \n",
       "2                2  NEW HAMPSHIRE  2013      March      Heavy Snow   \n",
       "3                3  NEW HAMPSHIRE  2013    October     Strong Wind   \n",
       "4                4  NEW HAMPSHIRE  2013   February      Heavy Snow   \n",
       "...            ...            ...   ...        ...             ...   \n",
       "608742       56395           IOWA  2006    October            Hail   \n",
       "608743       56396           IOWA  2006    October            Hail   \n",
       "608744       56397           IOWA  2006    October            Hail   \n",
       "608745       56398           IOWA  2006    October            Hail   \n",
       "608746       56399      WISCONSIN  2006    October            Hail   \n",
       "\n",
       "                 COUNTY_NAME COUNTY_TIMEZONE  DAMAGE_PROPERTY  DAMAGE_CROPS  \n",
       "0       EASTERN HILLSBOROUGH           EST-5              0.0           0.0  \n",
       "1       EASTERN HILLSBOROUGH           EST-5              0.0           0.0  \n",
       "2       EASTERN HILLSBOROUGH           EST-5              0.0           0.0  \n",
       "3       EASTERN HILLSBOROUGH           EST-5           3000.0           0.0  \n",
       "4       EASTERN HILLSBOROUGH           EST-5              0.0           0.0  \n",
       "...                      ...             ...              ...           ...  \n",
       "608742              MITCHELL           CST-6          65000.0       80000.0  \n",
       "608743                HOWARD           CST-6          50000.0       75000.0  \n",
       "608744            WINNESHIEK           CST-6           5000.0       10000.0  \n",
       "608745              MITCHELL           CST-6          80000.0      100000.0  \n",
       "608746                 ADAMS           CST-6          10000.0       20000.0  \n",
       "\n",
       "[608747 rows x 9 columns]"
      ]
     },
     "execution_count": 2,
     "metadata": {},
     "output_type": "execute_result"
    }
   ],
   "source": [
    "df = pd.read_csv('/Users/jkenglish/Desktop/StormEventsData/StormEvents_Combined.csv')\n",
    "\n",
    "df"
   ]
  },
  {
   "cell_type": "code",
   "execution_count": 3,
   "id": "47410f45",
   "metadata": {},
   "outputs": [
    {
     "data": {
      "text/plain": [
       "(608747, 9)"
      ]
     },
     "execution_count": 3,
     "metadata": {},
     "output_type": "execute_result"
    }
   ],
   "source": [
    "df.shape"
   ]
  },
  {
   "cell_type": "code",
   "execution_count": 4,
   "id": "8f3544d8",
   "metadata": {},
   "outputs": [
    {
     "data": {
      "text/html": [
       "<div>\n",
       "<style scoped>\n",
       "    .dataframe tbody tr th:only-of-type {\n",
       "        vertical-align: middle;\n",
       "    }\n",
       "\n",
       "    .dataframe tbody tr th {\n",
       "        vertical-align: top;\n",
       "    }\n",
       "\n",
       "    .dataframe thead th {\n",
       "        text-align: right;\n",
       "    }\n",
       "</style>\n",
       "<table border=\"1\" class=\"dataframe\">\n",
       "  <thead>\n",
       "    <tr style=\"text-align: right;\">\n",
       "      <th></th>\n",
       "      <th>STATE</th>\n",
       "      <th>YEAR</th>\n",
       "      <th>MONTH_NAME</th>\n",
       "      <th>EVENT_TYPE</th>\n",
       "      <th>COUNTY_NAME</th>\n",
       "      <th>COUNTY_TIMEZONE</th>\n",
       "      <th>DAMAGE_PROPERTY</th>\n",
       "      <th>DAMAGE_CROPS</th>\n",
       "    </tr>\n",
       "  </thead>\n",
       "  <tbody>\n",
       "    <tr>\n",
       "      <th>0</th>\n",
       "      <td>NEW HAMPSHIRE</td>\n",
       "      <td>2013</td>\n",
       "      <td>February</td>\n",
       "      <td>Winter Weather</td>\n",
       "      <td>EASTERN HILLSBOROUGH</td>\n",
       "      <td>EST-5</td>\n",
       "      <td>0.0</td>\n",
       "      <td>0.0</td>\n",
       "    </tr>\n",
       "    <tr>\n",
       "      <th>1</th>\n",
       "      <td>NEW HAMPSHIRE</td>\n",
       "      <td>2013</td>\n",
       "      <td>December</td>\n",
       "      <td>Heavy Snow</td>\n",
       "      <td>EASTERN HILLSBOROUGH</td>\n",
       "      <td>EST-5</td>\n",
       "      <td>0.0</td>\n",
       "      <td>0.0</td>\n",
       "    </tr>\n",
       "    <tr>\n",
       "      <th>2</th>\n",
       "      <td>NEW HAMPSHIRE</td>\n",
       "      <td>2013</td>\n",
       "      <td>March</td>\n",
       "      <td>Heavy Snow</td>\n",
       "      <td>EASTERN HILLSBOROUGH</td>\n",
       "      <td>EST-5</td>\n",
       "      <td>0.0</td>\n",
       "      <td>0.0</td>\n",
       "    </tr>\n",
       "    <tr>\n",
       "      <th>3</th>\n",
       "      <td>NEW HAMPSHIRE</td>\n",
       "      <td>2013</td>\n",
       "      <td>October</td>\n",
       "      <td>Strong Wind</td>\n",
       "      <td>EASTERN HILLSBOROUGH</td>\n",
       "      <td>EST-5</td>\n",
       "      <td>3000.0</td>\n",
       "      <td>0.0</td>\n",
       "    </tr>\n",
       "    <tr>\n",
       "      <th>4</th>\n",
       "      <td>NEW HAMPSHIRE</td>\n",
       "      <td>2013</td>\n",
       "      <td>February</td>\n",
       "      <td>Heavy Snow</td>\n",
       "      <td>EASTERN HILLSBOROUGH</td>\n",
       "      <td>EST-5</td>\n",
       "      <td>0.0</td>\n",
       "      <td>0.0</td>\n",
       "    </tr>\n",
       "    <tr>\n",
       "      <th>...</th>\n",
       "      <td>...</td>\n",
       "      <td>...</td>\n",
       "      <td>...</td>\n",
       "      <td>...</td>\n",
       "      <td>...</td>\n",
       "      <td>...</td>\n",
       "      <td>...</td>\n",
       "      <td>...</td>\n",
       "    </tr>\n",
       "    <tr>\n",
       "      <th>608742</th>\n",
       "      <td>IOWA</td>\n",
       "      <td>2006</td>\n",
       "      <td>October</td>\n",
       "      <td>Hail</td>\n",
       "      <td>MITCHELL</td>\n",
       "      <td>CST-6</td>\n",
       "      <td>65000.0</td>\n",
       "      <td>80000.0</td>\n",
       "    </tr>\n",
       "    <tr>\n",
       "      <th>608743</th>\n",
       "      <td>IOWA</td>\n",
       "      <td>2006</td>\n",
       "      <td>October</td>\n",
       "      <td>Hail</td>\n",
       "      <td>HOWARD</td>\n",
       "      <td>CST-6</td>\n",
       "      <td>50000.0</td>\n",
       "      <td>75000.0</td>\n",
       "    </tr>\n",
       "    <tr>\n",
       "      <th>608744</th>\n",
       "      <td>IOWA</td>\n",
       "      <td>2006</td>\n",
       "      <td>October</td>\n",
       "      <td>Hail</td>\n",
       "      <td>WINNESHIEK</td>\n",
       "      <td>CST-6</td>\n",
       "      <td>5000.0</td>\n",
       "      <td>10000.0</td>\n",
       "    </tr>\n",
       "    <tr>\n",
       "      <th>608745</th>\n",
       "      <td>IOWA</td>\n",
       "      <td>2006</td>\n",
       "      <td>October</td>\n",
       "      <td>Hail</td>\n",
       "      <td>MITCHELL</td>\n",
       "      <td>CST-6</td>\n",
       "      <td>80000.0</td>\n",
       "      <td>100000.0</td>\n",
       "    </tr>\n",
       "    <tr>\n",
       "      <th>608746</th>\n",
       "      <td>WISCONSIN</td>\n",
       "      <td>2006</td>\n",
       "      <td>October</td>\n",
       "      <td>Hail</td>\n",
       "      <td>ADAMS</td>\n",
       "      <td>CST-6</td>\n",
       "      <td>10000.0</td>\n",
       "      <td>20000.0</td>\n",
       "    </tr>\n",
       "  </tbody>\n",
       "</table>\n",
       "<p>608747 rows × 8 columns</p>\n",
       "</div>"
      ],
      "text/plain": [
       "                STATE  YEAR MONTH_NAME      EVENT_TYPE           COUNTY_NAME  \\\n",
       "0       NEW HAMPSHIRE  2013   February  Winter Weather  EASTERN HILLSBOROUGH   \n",
       "1       NEW HAMPSHIRE  2013   December      Heavy Snow  EASTERN HILLSBOROUGH   \n",
       "2       NEW HAMPSHIRE  2013      March      Heavy Snow  EASTERN HILLSBOROUGH   \n",
       "3       NEW HAMPSHIRE  2013    October     Strong Wind  EASTERN HILLSBOROUGH   \n",
       "4       NEW HAMPSHIRE  2013   February      Heavy Snow  EASTERN HILLSBOROUGH   \n",
       "...               ...   ...        ...             ...                   ...   \n",
       "608742           IOWA  2006    October            Hail              MITCHELL   \n",
       "608743           IOWA  2006    October            Hail                HOWARD   \n",
       "608744           IOWA  2006    October            Hail            WINNESHIEK   \n",
       "608745           IOWA  2006    October            Hail              MITCHELL   \n",
       "608746      WISCONSIN  2006    October            Hail                 ADAMS   \n",
       "\n",
       "       COUNTY_TIMEZONE  DAMAGE_PROPERTY  DAMAGE_CROPS  \n",
       "0                EST-5              0.0           0.0  \n",
       "1                EST-5              0.0           0.0  \n",
       "2                EST-5              0.0           0.0  \n",
       "3                EST-5           3000.0           0.0  \n",
       "4                EST-5              0.0           0.0  \n",
       "...                ...              ...           ...  \n",
       "608742           CST-6          65000.0       80000.0  \n",
       "608743           CST-6          50000.0       75000.0  \n",
       "608744           CST-6           5000.0       10000.0  \n",
       "608745           CST-6          80000.0      100000.0  \n",
       "608746           CST-6          10000.0       20000.0  \n",
       "\n",
       "[608747 rows x 8 columns]"
      ]
     },
     "execution_count": 4,
     "metadata": {},
     "output_type": "execute_result"
    }
   ],
   "source": [
    "df2 = df.drop(['Unnamed: 0'],axis=1)\n",
    "\n",
    "df2"
   ]
  },
  {
   "cell_type": "code",
   "execution_count": 5,
   "id": "7d85a05b",
   "metadata": {},
   "outputs": [
    {
     "data": {
      "text/plain": [
       "(608747, 8)"
      ]
     },
     "execution_count": 5,
     "metadata": {},
     "output_type": "execute_result"
    }
   ],
   "source": [
    "df2.shape"
   ]
  },
  {
   "cell_type": "code",
   "execution_count": 6,
   "id": "f6d04af9",
   "metadata": {},
   "outputs": [
    {
     "data": {
      "text/plain": [
       "array(['NEW HAMPSHIRE', 'MISSOURI', 'KANSAS', 'TEXAS', 'HAWAII',\n",
       "       'COLORADO', 'ILLINOIS', 'MONTANA', 'MICHIGAN', 'WYOMING',\n",
       "       'MARYLAND', 'VIRGINIA', 'IOWA', 'NEBRASKA', 'LAKE ST CLAIR',\n",
       "       'LAKE HURON', 'DISTRICT OF COLUMBIA', 'NEW YORK', 'PENNSYLVANIA',\n",
       "       'ATLANTIC NORTH', 'GULF OF MEXICO', 'NEW MEXICO', 'OKLAHOMA',\n",
       "       'WEST VIRGINIA', 'WISCONSIN', 'MINNESOTA', 'ARKANSAS',\n",
       "       'MISSISSIPPI', 'GEORGIA', 'TENNESSEE', 'LAKE SUPERIOR',\n",
       "       'RHODE ISLAND', 'MASSACHUSETTS', 'FLORIDA', 'ALABAMA', 'MAINE',\n",
       "       'ARIZONA', 'OHIO', 'VERMONT', 'LOUISIANA', 'INDIANA',\n",
       "       'NORTH CAROLINA', 'SOUTH DAKOTA', 'CALIFORNIA', 'UTAH',\n",
       "       'NORTH DAKOTA', 'KENTUCKY', 'ATLANTIC SOUTH', 'IDAHO',\n",
       "       'CONNECTICUT', 'LAKE MICHIGAN', 'OREGON', 'ALASKA',\n",
       "       'SOUTH CAROLINA', 'AMERICAN SAMOA', 'NEVADA', 'WASHINGTON', 'GUAM',\n",
       "       'HAWAII WATERS', 'PUERTO RICO', 'VIRGIN ISLANDS', 'NEW JERSEY',\n",
       "       'LAKE ERIE', 'E PACIFIC', 'DELAWARE', 'LAKE ONTARIO',\n",
       "       'GULF OF ALASKA', 'ST LAWRENCE R'], dtype=object)"
      ]
     },
     "execution_count": 6,
     "metadata": {},
     "output_type": "execute_result"
    }
   ],
   "source": [
    "df2['STATE'].unique()"
   ]
  },
  {
   "cell_type": "code",
   "execution_count": 7,
   "id": "d7435bab",
   "metadata": {},
   "outputs": [
    {
     "data": {
      "text/plain": [
       "array(['Winter Weather', 'Heavy Snow', 'Strong Wind', 'High Wind',\n",
       "       'Blizzard', 'Hail', 'Flood', 'Thunderstorm Wind', 'Drought',\n",
       "       'High Surf', 'Winter Storm', 'Flash Flood', 'Tornado', 'Dense Fog',\n",
       "       'Marine Thunderstorm Wind', 'Debris Flow', 'Excessive Heat',\n",
       "       'Cold/Wind Chill', 'Lake-Effect Snow', 'Ice Storm',\n",
       "       'Marine High Wind', 'Heavy Rain', 'Funnel Cloud', 'Rip Current',\n",
       "       'Waterspout', 'Frost/Freeze', 'Wildfire', 'Lightning',\n",
       "       'Dust Storm', 'Heat', 'Extreme Cold/Wind Chill', 'Coastal Flood',\n",
       "       'Tropical Storm', 'Dust Devil', 'Avalanche', 'Marine Hail',\n",
       "       'Marine Dense Fog', 'Marine Strong Wind', 'Hurricane',\n",
       "       'Freezing Fog', 'Astronomical Low Tide', 'Sleet', 'Tsunami',\n",
       "       'Sneakerwave', 'Storm Surge/Tide', 'Dense Smoke', 'Seiche',\n",
       "       'Volcanic Ashfall', 'Landslide', 'Tropical Depression',\n",
       "       'Hurricane (Typhoon)', 'Marine Tropical Storm',\n",
       "       'Marine Hurricane/Typhoon', 'HAIL FLOODING',\n",
       "       'THUNDERSTORM WINDS/FLASH FLOOD', 'THUNDERSTORM WINDS LIGHTNING',\n",
       "       'THUNDERSTORM WIND/ TREES', 'THUNDERSTORM WIND/ TREE',\n",
       "       'THUNDERSTORM WINDS FUNNEL CLOU', 'TORNADO/WATERSPOUT',\n",
       "       'THUNDERSTORM WINDS/HEAVY RAIN', 'THUNDERSTORM WINDS HEAVY RAIN',\n",
       "       'THUNDERSTORM WINDS/ FLOOD', 'Lakeshore Flood',\n",
       "       'Marine Tropical Depression', 'TORNADOES, TSTM WIND, HAIL',\n",
       "       'THUNDERSTORM WINDS/FLOODING', 'HAIL/ICY ROADS',\n",
       "       'Marine Lightning'], dtype=object)"
      ]
     },
     "execution_count": 7,
     "metadata": {},
     "output_type": "execute_result"
    }
   ],
   "source": [
    "df2['EVENT_TYPE'].unique()"
   ]
  },
  {
   "cell_type": "code",
   "execution_count": 8,
   "id": "ad3a0e3f",
   "metadata": {},
   "outputs": [
    {
     "data": {
      "text/plain": [
       "array(['EASTERN HILLSBOROUGH', 'HARRISON', 'JOHNSON', ...,\n",
       "       'STONINGTON (DEER ISLE) ME TO MERRIMACK RIVER MA 25 TO 40NM',\n",
       "       'WEST COLUMBIA RIVER GORGE',\n",
       "       'LE WILLOWICK TO GENEVA ON THE LAKE OH BYD 5NM OFFSHORE TO INTL BORDER'],\n",
       "      dtype=object)"
      ]
     },
     "execution_count": 8,
     "metadata": {},
     "output_type": "execute_result"
    }
   ],
   "source": [
    "df2['COUNTY_NAME'].unique()"
   ]
  },
  {
   "cell_type": "code",
   "execution_count": 11,
   "id": "08b9a57c",
   "metadata": {},
   "outputs": [
    {
     "data": {
      "text/plain": [
       "array(['February', 'December', 'March', 'October', 'November', 'January',\n",
       "       'June', 'May', 'April', 'August', 'July', 'September'],\n",
       "      dtype=object)"
      ]
     },
     "execution_count": 11,
     "metadata": {},
     "output_type": "execute_result"
    }
   ],
   "source": [
    "df2['MONTH_NAME'].unique()"
   ]
  },
  {
   "cell_type": "code",
   "execution_count": 12,
   "id": "eb1aec5b",
   "metadata": {},
   "outputs": [
    {
     "data": {
      "text/plain": [
       "FRANKLIN                                                                 4704\n",
       "WASHINGTON                                                               4598\n",
       "JEFFERSON                                                                4509\n",
       "JACKSON                                                                  4358\n",
       "MADISON                                                                  3840\n",
       "                                                                         ... \n",
       "Michigan City in to New Buffalo MI                                          1\n",
       "Central Willamette Valley                                                   1\n",
       "Harris                                                                      1\n",
       "Lower Chehalis Valley Area                                                  1\n",
       "LE WILLOWICK TO GENEVA ON THE LAKE OH BYD 5NM OFFSHORE TO INTL BORDER       1\n",
       "Name: COUNTY_NAME, Length: 4893, dtype: int64"
      ]
     },
     "execution_count": 12,
     "metadata": {},
     "output_type": "execute_result"
    }
   ],
   "source": [
    "df2['COUNTY_NAME'].value_counts()"
   ]
  },
  {
   "cell_type": "code",
   "execution_count": 13,
   "id": "84e5d2aa",
   "metadata": {},
   "outputs": [
    {
     "data": {
      "text/plain": [
       "array([43, 39, 24, 59, 18,  8, 21, 40, 36, 67, 34, 63, 23, 41, 30, 27, 11,\n",
       "       46, 52,  5, 17, 45, 50, 65, 66, 37,  4, 38, 14, 58, 31, 54, 35, 13,\n",
       "        0, 33,  3, 49, 61, 32, 22, 47, 56,  7, 60, 48, 25,  6, 20,  9, 28,\n",
       "       51,  1, 55,  2, 42, 64, 15, 19, 53, 62, 44, 26, 12, 10, 29, 16, 57])"
      ]
     },
     "execution_count": 13,
     "metadata": {},
     "output_type": "execute_result"
    }
   ],
   "source": [
    "state_encoder = preprocessing.LabelEncoder()\n",
    "  \n",
    "df2['STATE']= state_encoder.fit_transform(df2['STATE'])\n",
    "  \n",
    "df2['STATE'].unique()"
   ]
  },
  {
   "cell_type": "code",
   "execution_count": 14,
   "id": "e2b32415",
   "metadata": {},
   "outputs": [
    {
     "data": {
      "text/plain": [
       "array([68, 23, 47, 25,  2, 20, 14, 59,  8, 24, 67, 13, 60,  6, 39,  5, 11,\n",
       "        4, 29, 28, 35, 22, 17, 42, 65, 16, 66, 32, 10, 21, 12,  3, 62,  9,\n",
       "        1, 34, 33, 38, 26, 15,  0, 44, 63, 45, 46,  7, 43, 64, 31, 61, 27,\n",
       "       41, 36, 18, 54, 52, 49, 48, 50, 57, 56, 51, 53, 30, 40, 58, 55, 19,\n",
       "       37])"
      ]
     },
     "execution_count": 14,
     "metadata": {},
     "output_type": "execute_result"
    }
   ],
   "source": [
    "event_encoder = preprocessing.LabelEncoder()\n",
    "\n",
    "\n",
    "df2['EVENT_TYPE']= event_encoder.fit_transform(df2['EVENT_TYPE'])\n",
    "  \n",
    "df2['EVENT_TYPE'].unique()\n"
   ]
  },
  {
   "cell_type": "code",
   "execution_count": 15,
   "id": "20d4f3f6",
   "metadata": {},
   "outputs": [
    {
     "data": {
      "text/plain": [
       "array([ 3,  2,  7, 10,  9,  4,  6,  8,  0,  1,  5, 11])"
      ]
     },
     "execution_count": 15,
     "metadata": {},
     "output_type": "execute_result"
    }
   ],
   "source": [
    "month_encoder  = preprocessing.LabelEncoder()\n",
    "\n",
    "df2['MONTH_NAME']= month_encoder.fit_transform(df2['MONTH_NAME'])\n",
    "  \n",
    "df2['MONTH_NAME'].unique()\n"
   ]
  },
  {
   "cell_type": "code",
   "execution_count": 16,
   "id": "a0ade23a",
   "metadata": {},
   "outputs": [
    {
     "data": {
      "text/plain": [
       "array([1281, 1770, 2039, ..., 4104, 4593, 2262])"
      ]
     },
     "execution_count": 16,
     "metadata": {},
     "output_type": "execute_result"
    }
   ],
   "source": [
    "county_encoder = preprocessing.LabelEncoder()\n",
    "\n",
    "\n",
    "df2['COUNTY_NAME']= county_encoder.fit_transform(df2['COUNTY_NAME'])\n",
    "  \n",
    "df2['COUNTY_NAME'].unique()\n"
   ]
  },
  {
   "cell_type": "code",
   "execution_count": 17,
   "id": "a431dcc5",
   "metadata": {},
   "outputs": [
    {
     "data": {
      "text/html": [
       "<div>\n",
       "<style scoped>\n",
       "    .dataframe tbody tr th:only-of-type {\n",
       "        vertical-align: middle;\n",
       "    }\n",
       "\n",
       "    .dataframe tbody tr th {\n",
       "        vertical-align: top;\n",
       "    }\n",
       "\n",
       "    .dataframe thead th {\n",
       "        text-align: right;\n",
       "    }\n",
       "</style>\n",
       "<table border=\"1\" class=\"dataframe\">\n",
       "  <thead>\n",
       "    <tr style=\"text-align: right;\">\n",
       "      <th></th>\n",
       "      <th>STATE</th>\n",
       "      <th>YEAR</th>\n",
       "      <th>MONTH_NAME</th>\n",
       "      <th>EVENT_TYPE</th>\n",
       "      <th>COUNTY_NAME</th>\n",
       "      <th>DAMAGE_PROPERTY</th>\n",
       "    </tr>\n",
       "  </thead>\n",
       "  <tbody>\n",
       "    <tr>\n",
       "      <th>0</th>\n",
       "      <td>43</td>\n",
       "      <td>2013</td>\n",
       "      <td>3</td>\n",
       "      <td>68</td>\n",
       "      <td>1281</td>\n",
       "      <td>0.0</td>\n",
       "    </tr>\n",
       "    <tr>\n",
       "      <th>1</th>\n",
       "      <td>43</td>\n",
       "      <td>2013</td>\n",
       "      <td>2</td>\n",
       "      <td>23</td>\n",
       "      <td>1281</td>\n",
       "      <td>0.0</td>\n",
       "    </tr>\n",
       "    <tr>\n",
       "      <th>2</th>\n",
       "      <td>43</td>\n",
       "      <td>2013</td>\n",
       "      <td>7</td>\n",
       "      <td>23</td>\n",
       "      <td>1281</td>\n",
       "      <td>0.0</td>\n",
       "    </tr>\n",
       "    <tr>\n",
       "      <th>3</th>\n",
       "      <td>43</td>\n",
       "      <td>2013</td>\n",
       "      <td>10</td>\n",
       "      <td>47</td>\n",
       "      <td>1281</td>\n",
       "      <td>3000.0</td>\n",
       "    </tr>\n",
       "    <tr>\n",
       "      <th>4</th>\n",
       "      <td>43</td>\n",
       "      <td>2013</td>\n",
       "      <td>3</td>\n",
       "      <td>23</td>\n",
       "      <td>1281</td>\n",
       "      <td>0.0</td>\n",
       "    </tr>\n",
       "    <tr>\n",
       "      <th>...</th>\n",
       "      <td>...</td>\n",
       "      <td>...</td>\n",
       "      <td>...</td>\n",
       "      <td>...</td>\n",
       "      <td>...</td>\n",
       "      <td>...</td>\n",
       "    </tr>\n",
       "    <tr>\n",
       "      <th>608742</th>\n",
       "      <td>23</td>\n",
       "      <td>2006</td>\n",
       "      <td>10</td>\n",
       "      <td>20</td>\n",
       "      <td>2618</td>\n",
       "      <td>65000.0</td>\n",
       "    </tr>\n",
       "    <tr>\n",
       "      <th>608743</th>\n",
       "      <td>23</td>\n",
       "      <td>2006</td>\n",
       "      <td>10</td>\n",
       "      <td>20</td>\n",
       "      <td>1841</td>\n",
       "      <td>50000.0</td>\n",
       "    </tr>\n",
       "    <tr>\n",
       "      <th>608744</th>\n",
       "      <td>23</td>\n",
       "      <td>2006</td>\n",
       "      <td>10</td>\n",
       "      <td>20</td>\n",
       "      <td>4764</td>\n",
       "      <td>5000.0</td>\n",
       "    </tr>\n",
       "    <tr>\n",
       "      <th>608745</th>\n",
       "      <td>23</td>\n",
       "      <td>2006</td>\n",
       "      <td>10</td>\n",
       "      <td>20</td>\n",
       "      <td>2618</td>\n",
       "      <td>80000.0</td>\n",
       "    </tr>\n",
       "    <tr>\n",
       "      <th>608746</th>\n",
       "      <td>66</td>\n",
       "      <td>2006</td>\n",
       "      <td>10</td>\n",
       "      <td>20</td>\n",
       "      <td>14</td>\n",
       "      <td>10000.0</td>\n",
       "    </tr>\n",
       "  </tbody>\n",
       "</table>\n",
       "<p>608747 rows × 6 columns</p>\n",
       "</div>"
      ],
      "text/plain": [
       "        STATE  YEAR  MONTH_NAME  EVENT_TYPE  COUNTY_NAME  DAMAGE_PROPERTY\n",
       "0          43  2013           3          68         1281              0.0\n",
       "1          43  2013           2          23         1281              0.0\n",
       "2          43  2013           7          23         1281              0.0\n",
       "3          43  2013          10          47         1281           3000.0\n",
       "4          43  2013           3          23         1281              0.0\n",
       "...       ...   ...         ...         ...          ...              ...\n",
       "608742     23  2006          10          20         2618          65000.0\n",
       "608743     23  2006          10          20         1841          50000.0\n",
       "608744     23  2006          10          20         4764           5000.0\n",
       "608745     23  2006          10          20         2618          80000.0\n",
       "608746     66  2006          10          20           14          10000.0\n",
       "\n",
       "[608747 rows x 6 columns]"
      ]
     },
     "execution_count": 17,
     "metadata": {},
     "output_type": "execute_result"
    }
   ],
   "source": [
    "df3 = df2.drop(['COUNTY_TIMEZONE','DAMAGE_CROPS'],axis=1)\n",
    "\n",
    "df3"
   ]
  },
  {
   "cell_type": "code",
   "execution_count": 18,
   "id": "2fdbb566",
   "metadata": {},
   "outputs": [
    {
     "data": {
      "text/plain": [
       "DecisionTreeRegressor(random_state=0)"
      ]
     },
     "execution_count": 18,
     "metadata": {},
     "output_type": "execute_result"
    }
   ],
   "source": [
    "from sklearn.linear_model import LinearRegression\n",
    "from matplotlib import pyplot\n",
    "\n",
    "X = df3.drop('DAMAGE_PROPERTY',axis=1)\n",
    "\n",
    "y = df3['DAMAGE_PROPERTY']\n",
    "\n",
    "\n",
    "from sklearn.tree import DecisionTreeRegressor\n",
    "\n",
    "model_decisiontreeregressor = DecisionTreeRegressor(random_state=0)\n",
    "\n",
    "model_decisiontreeregressor.fit(X, y.values)\n",
    "\n"
   ]
  },
  {
   "cell_type": "code",
   "execution_count": 19,
   "id": "8d041449",
   "metadata": {},
   "outputs": [],
   "source": [
    "predict_decisiontreeregressor = model_decisiontreeregressor.predict(X)"
   ]
  },
  {
   "cell_type": "code",
   "execution_count": 20,
   "id": "6b8bc624",
   "metadata": {},
   "outputs": [
    {
     "name": "stdout",
     "output_type": "stream",
     "text": [
      "$18,068,244.24\n"
     ]
    }
   ],
   "source": [
    "error = np.sqrt(mean_squared_error(y,predict_decisiontreeregressor))\n",
    "\n",
    "print(\"${:,.02f}\".format(error))"
   ]
  },
  {
   "cell_type": "code",
   "execution_count": 21,
   "id": "783d725a",
   "metadata": {},
   "outputs": [
    {
     "data": {
      "text/plain": [
       "LinearRegression()"
      ]
     },
     "execution_count": 21,
     "metadata": {},
     "output_type": "execute_result"
    }
   ],
   "source": [
    "model_linear = LinearRegression()\n",
    "\n",
    "model_linear.fit(X, y.values)\n",
    "\n"
   ]
  },
  {
   "cell_type": "code",
   "execution_count": 22,
   "id": "2ffecf43",
   "metadata": {},
   "outputs": [],
   "source": [
    "predict_linear = model_linear.predict(X)"
   ]
  },
  {
   "cell_type": "code",
   "execution_count": 23,
   "id": "4ec3f59c",
   "metadata": {},
   "outputs": [
    {
     "name": "stdout",
     "output_type": "stream",
     "text": [
      "$39,049,046.39\n"
     ]
    }
   ],
   "source": [
    "error_linear = np.sqrt(mean_squared_error(y,predict_linear))\n",
    "\n",
    "print(\"${:,.02f}\".format(error_linear))"
   ]
  },
  {
   "cell_type": "code",
   "execution_count": 24,
   "id": "f8065e58",
   "metadata": {},
   "outputs": [
    {
     "data": {
      "image/png": "[encoded data removed]",
      "text/plain": [
       "<Figure size 640x480 with 1 Axes>"
      ]
     },
     "metadata": {},
     "output_type": "display_data"
    }
   ],
   "source": [
    "#Feature Importance\n",
    "\n",
    "importances = model_decisiontreeregressor.feature_importances_\n",
    "\n",
    "\n",
    "indices = np.argsort(importances)\n",
    "\n",
    "fig, ax = plt.subplots()\n",
    "ax.barh(range(len(importances)), importances[indices])\n",
    "ax.set_yticks(range(len(importances)))\n",
    "_ = ax.set_yticklabels(np.array(X.columns)[indices])\n",
    "\n"
   ]
  },
  {
   "cell_type": "code",
   "execution_count": 25,
   "id": "562617dd",
   "metadata": {},
   "outputs": [
    {
     "data": {
      "text/plain": [
       "GridSearchCV(estimator=DecisionTreeRegressor(random_state=0),\n",
       "             param_grid={'max_depth': [None, 2, 4, 6, 8, 10, 12]},\n",
       "             scoring='neg_mean_squared_error')"
      ]
     },
     "execution_count": 25,
     "metadata": {},
     "output_type": "execute_result"
    }
   ],
   "source": [
    "from sklearn.model_selection import GridSearchCV\n",
    "\n",
    "from sklearn.tree import DecisionTreeRegressor\n",
    "\n",
    "\n",
    "max_depth = [None,2,4,6,8,10,12]\n",
    "\n",
    "parameters = {\"max_depth\":max_depth}\n",
    "\n",
    "regressor = DecisionTreeRegressor(random_state=0)\n",
    "\n",
    "gs = GridSearchCV(regressor,parameters,scoring = 'neg_mean_squared_error')\n",
    "\n",
    "gs.fit(X,y.values)\n"
   ]
  },
  {
   "cell_type": "code",
   "execution_count": 26,
   "id": "4fd4d79f",
   "metadata": {},
   "outputs": [
    {
     "name": "stdout",
     "output_type": "stream",
     "text": [
      "$39,035,288.53\n"
     ]
    }
   ],
   "source": [
    "regressor = gs.best_estimator_\n",
    "\n",
    "regressor.fit(X,y.values)\n",
    "\n",
    "pred_gs = regressor.predict(X)\n",
    "\n",
    "\n",
    "error_gs = np.sqrt(mean_squared_error(y,pred_gs))\n",
    "\n",
    "print(\"${:,.02f}\".format(error_gs))\n"
   ]
  },
  {
   "cell_type": "code",
   "execution_count": 27,
   "id": "8f6eee09",
   "metadata": {},
   "outputs": [
    {
     "data": {
      "text/html": [
       "<div>\n",
       "<style scoped>\n",
       "    .dataframe tbody tr th:only-of-type {\n",
       "        vertical-align: middle;\n",
       "    }\n",
       "\n",
       "    .dataframe tbody tr th {\n",
       "        vertical-align: top;\n",
       "    }\n",
       "\n",
       "    .dataframe thead th {\n",
       "        text-align: right;\n",
       "    }\n",
       "</style>\n",
       "<table border=\"1\" class=\"dataframe\">\n",
       "  <thead>\n",
       "    <tr style=\"text-align: right;\">\n",
       "      <th></th>\n",
       "      <th>STATE</th>\n",
       "      <th>YEAR</th>\n",
       "      <th>MONTH_NAME</th>\n",
       "      <th>EVENT_TYPE</th>\n",
       "      <th>COUNTY_NAME</th>\n",
       "    </tr>\n",
       "  </thead>\n",
       "  <tbody>\n",
       "    <tr>\n",
       "      <th>0</th>\n",
       "      <td>43</td>\n",
       "      <td>2013</td>\n",
       "      <td>3</td>\n",
       "      <td>68</td>\n",
       "      <td>1281</td>\n",
       "    </tr>\n",
       "    <tr>\n",
       "      <th>1</th>\n",
       "      <td>43</td>\n",
       "      <td>2013</td>\n",
       "      <td>2</td>\n",
       "      <td>23</td>\n",
       "      <td>1281</td>\n",
       "    </tr>\n",
       "    <tr>\n",
       "      <th>2</th>\n",
       "      <td>43</td>\n",
       "      <td>2013</td>\n",
       "      <td>7</td>\n",
       "      <td>23</td>\n",
       "      <td>1281</td>\n",
       "    </tr>\n",
       "    <tr>\n",
       "      <th>3</th>\n",
       "      <td>43</td>\n",
       "      <td>2013</td>\n",
       "      <td>10</td>\n",
       "      <td>47</td>\n",
       "      <td>1281</td>\n",
       "    </tr>\n",
       "    <tr>\n",
       "      <th>4</th>\n",
       "      <td>43</td>\n",
       "      <td>2013</td>\n",
       "      <td>3</td>\n",
       "      <td>23</td>\n",
       "      <td>1281</td>\n",
       "    </tr>\n",
       "    <tr>\n",
       "      <th>...</th>\n",
       "      <td>...</td>\n",
       "      <td>...</td>\n",
       "      <td>...</td>\n",
       "      <td>...</td>\n",
       "      <td>...</td>\n",
       "    </tr>\n",
       "    <tr>\n",
       "      <th>608742</th>\n",
       "      <td>23</td>\n",
       "      <td>2006</td>\n",
       "      <td>10</td>\n",
       "      <td>20</td>\n",
       "      <td>2618</td>\n",
       "    </tr>\n",
       "    <tr>\n",
       "      <th>608743</th>\n",
       "      <td>23</td>\n",
       "      <td>2006</td>\n",
       "      <td>10</td>\n",
       "      <td>20</td>\n",
       "      <td>1841</td>\n",
       "    </tr>\n",
       "    <tr>\n",
       "      <th>608744</th>\n",
       "      <td>23</td>\n",
       "      <td>2006</td>\n",
       "      <td>10</td>\n",
       "      <td>20</td>\n",
       "      <td>4764</td>\n",
       "    </tr>\n",
       "    <tr>\n",
       "      <th>608745</th>\n",
       "      <td>23</td>\n",
       "      <td>2006</td>\n",
       "      <td>10</td>\n",
       "      <td>20</td>\n",
       "      <td>2618</td>\n",
       "    </tr>\n",
       "    <tr>\n",
       "      <th>608746</th>\n",
       "      <td>66</td>\n",
       "      <td>2006</td>\n",
       "      <td>10</td>\n",
       "      <td>20</td>\n",
       "      <td>14</td>\n",
       "    </tr>\n",
       "  </tbody>\n",
       "</table>\n",
       "<p>608747 rows × 5 columns</p>\n",
       "</div>"
      ],
      "text/plain": [
       "        STATE  YEAR  MONTH_NAME  EVENT_TYPE  COUNTY_NAME\n",
       "0          43  2013           3          68         1281\n",
       "1          43  2013           2          23         1281\n",
       "2          43  2013           7          23         1281\n",
       "3          43  2013          10          47         1281\n",
       "4          43  2013           3          23         1281\n",
       "...       ...   ...         ...         ...          ...\n",
       "608742     23  2006          10          20         2618\n",
       "608743     23  2006          10          20         1841\n",
       "608744     23  2006          10          20         4764\n",
       "608745     23  2006          10          20         2618\n",
       "608746     66  2006          10          20           14\n",
       "\n",
       "[608747 rows x 5 columns]"
      ]
     },
     "execution_count": 27,
     "metadata": {},
     "output_type": "execute_result"
    }
   ],
   "source": [
    "X"
   ]
  },
  {
   "cell_type": "code",
   "execution_count": 24,
   "id": "62f78f3e",
   "metadata": {},
   "outputs": [],
   "source": [
    "import pickle"
   ]
  },
  {
   "cell_type": "code",
   "execution_count": 25,
   "id": "f05a5b99",
   "metadata": {},
   "outputs": [],
   "source": [
    "data = {\"model\": regressor,\"state_encoder\":state_encoder,\"county_encoder\":county_encoder,\"event_encoder\":event_encoder,\"month_encoder\":month_encoder}\n",
    "\n",
    "\n",
    "with open('regression_model.pkl','wb') as file:\n",
    "    pickle.dump(data,file)\n",
    "\n",
    "\n"
   ]
  },
  {
   "cell_type": "code",
   "execution_count": 26,
   "id": "e1f81a8f",
   "metadata": {},
   "outputs": [],
   "source": [
    "with open('regression_model.pkl','rb') as file:\n",
    "    data = pickle.load(file)\n",
    "\n",
    "\n",
    "regressor_load = data[\"model\"]  \n",
    "\n",
    "state_encoder = data[\"state_encoder\"]\n",
    "\n",
    "county_encoder = data[\"county_encoder\"]\n",
    "\n",
    "event_encoder = data[\"event_encoder\"]\n",
    "\n",
    "month_encoder = data[\"month_encoder\"]\n",
    "\n",
    "\n"
   ]
  },
  {
   "cell_type": "code",
   "execution_count": 27,
   "id": "8f7fc058",
   "metadata": {},
   "outputs": [
    {
     "data": {
      "text/plain": [
       "array([ 217249.1635741 ,  217249.1635741 ,  217249.1635741 , ...,\n",
       "       1350646.06007311, 1350646.06007311, 1350646.06007311])"
      ]
     },
     "execution_count": 27,
     "metadata": {},
     "output_type": "execute_result"
    }
   ],
   "source": [
    "y_prediction = regressor_load.predict(X)\n",
    "\n",
    "y_prediction"
   ]
  },
  {
   "cell_type": "code",
   "execution_count": null,
   "id": "06dee341",
   "metadata": {},
   "outputs": [],
   "source": []
  }
 ],
 "metadata": {
  "kernelspec": {
   "display_name": "Python 3 (ipykernel)",
   "language": "python",
   "name": "python3"
  },
  "language_info": {
   "codemirror_mode": {
    "name": "ipython",
    "version": 3
   },
   "file_extension": ".py",
   "mimetype": "text/x-python",
   "name": "python",
   "nbconvert_exporter": "python",
   "pygments_lexer": "ipython3",
   "version": "3.9.13"
  }
 },
 "nbformat": 4,
 "nbformat_minor": 5
}
